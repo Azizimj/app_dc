{
 "cells": [
  {
   "cell_type": "code",
   "execution_count": 17,
   "metadata": {},
   "outputs": [],
   "source": [
    "from imutils import build_montages\n",
    "from imutils import paths\n",
    "import argparse\n",
    "import imutils"
   ]
  },
  {
   "cell_type": "code",
   "execution_count": 19,
   "metadata": {},
   "outputs": [],
   "source": [
    "# https://www.pyimagesearch.com/2017/06/05/computing-image-colorfulness-with-opencv-and-python/\n",
    "def image_colorfulness(image):\n",
    "\t# split the image into its respective RGB components\n",
    "\t(B, G, R) = cv2.split(image.astype(\"float\"))\n",
    " \n",
    "\t# compute rg = R - G\n",
    "\trg = np.absolute(R - G)\n",
    " \n",
    "\t# compute yb = 0.5 * (R + G) - B\n",
    "\tyb = np.absolute(0.5 * (R + G) - B)\n",
    " \n",
    "\t# compute the mean and standard deviation of both `rg` and `yb`\n",
    "\t(rbMean, rbStd) = (np.mean(rg), np.std(rg))\n",
    "\t(ybMean, ybStd) = (np.mean(yb), np.std(yb))\n",
    " \n",
    "\t# combine the mean and standard deviations\n",
    "\tstdRoot = np.sqrt((rbStd ** 2) + (ybStd ** 2))\n",
    "\tmeanRoot = np.sqrt((rbMean ** 2) + (ybMean ** 2))\n",
    " \n",
    "\t# derive the \"colorfulness\" metric and return it\n",
    "\treturn stdRoot + (0.3 * meanRoot)"
   ]
  },
  {
   "cell_type": "code",
   "execution_count": 20,
   "metadata": {},
   "outputs": [],
   "source": [
    "DATASET_PATH = \"F:/Acad/lc/apple_DC/iphone\" # the dataset file or root folder path.\n",
    "results = []\n",
    "for imagePath in paths.list_images(DATASET_PATH):\n",
    "\t# load the image, resize it (to speed up computation), and\n",
    "\t# compute the colorfulness metric for the image\n",
    "\timage = cv2.imread(imagePath)\n",
    "\timage = imutils.resize(image, width=250)\n",
    "\tC = image_colorfulness(image)\n",
    " \n",
    "\t# display the colorfulness score on the image\n",
    "\tcv2.putText(image, \"{:.2f}\".format(C), (40, 40), \n",
    "\t\tcv2.FONT_HERSHEY_SIMPLEX, 1.4, (0, 255, 0), 3)\n",
    " \n",
    "\t# add the image and colorfulness metric to the results list\n",
    "\tresults.append(C)"
   ]
  },
  {
   "cell_type": "code",
   "execution_count": 38,
   "metadata": {},
   "outputs": [
    {
     "name": "stdout",
     "output_type": "stream",
     "text": [
      "9.421361811558926\n",
      "11.804113951254342\n",
      "6.6011017748369785\n"
     ]
    }
   ],
   "source": [
    "results=np.array(results)\n",
    "ave = np.average(results)\n",
    "print(ave)\n",
    "print(np.max(results))\n",
    "print(np.min(results))"
   ]
  },
  {
   "cell_type": "code",
   "execution_count": 48,
   "metadata": {},
   "outputs": [
    {
     "data": {
      "text/plain": [
       "Text(-20, 9.321361811558926, 'average')"
      ]
     },
     "execution_count": 48,
     "metadata": {},
     "output_type": "execute_result"
    },
    {
     "data": {
      "image/png": "[encoded data removed]",
      "text/plain": [
       "<Figure size 432x288 with 1 Axes>"
      ]
     },
     "metadata": {
      "needs_background": "light"
     },
     "output_type": "display_data"
    }
   ],
   "source": [
    "import matplotlib.pyplot as plt\n",
    "\n",
    "results = np.sort(results)\n",
    "n= len(results)\n",
    "y_pos = np.arange(n)\n",
    "plt.bar(y_pos, results, align='center', alpha=0.5)\n",
    "plt.bar(0, np.min(results), align='center', alpha=0.5, color='red')\n",
    "plt.bar(n-1, np.max(results), align='center', alpha=0.5, color='red')\n",
    "plt.bar(n//2, np.median(results), align='center', alpha=0.5, color='red')\n",
    "plt.hlines(ave, 0, n-1, colors='green', )\n",
    "plt.ylabel(\"colorfulness %\")\n",
    "plt.text(-20, ave-.1 , \"average\", fontdict=None)"
   ]
  }
 ],
 "metadata": {
  "kernelspec": {
   "display_name": "tf_2",
   "language": "python",
   "name": "tf_2"
  },
  "language_info": {
   "codemirror_mode": {
    "name": "ipython",
    "version": 3
   },
   "file_extension": ".py",
   "mimetype": "text/x-python",
   "name": "python",
   "nbconvert_exporter": "python",
   "pygments_lexer": "ipython3",
   "version": "3.5.6"
  }
 },
 "nbformat": 4,
 "nbformat_minor": 2
}
