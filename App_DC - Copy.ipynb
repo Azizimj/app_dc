{
 "cells": [
  {
   "cell_type": "markdown",
   "metadata": {},
   "source": [
    "# Problem: Find defected iPhones\n",
    "* <b>Description:</b> Classify the iPhone pictures into defected and not defected\n",
    "* <b>Assumptions 1:</b> We assume that the background of the image is even (white) so we do not need to worry about finding the region of interest (ROI). If this assumption is violated, we can add an ROI layer on top of our model and introduce a boxing penalty so that the model automatically finds the ROI. Also, non-machine learning approaches like OpenCV countors can be used to find the ROI.\n",
    "* <b>Assumptions 2:</b> If the data is not labeled (as in the given file) we can use crowdsourcing or historical data to label them, but if that is not a feasible or effective way, we can use semi-supervised learning or unsupervised learning to label the data. In this problem, I assume the data is labeled and by looking at the images I divided them into \"defected\" and \"not defected\".\n",
    "* <b>Assumptions 3:</b> Since the pictures are all of the same objects, we conjecture that using a pre-trained model to perform a fine tunning or transfer learning cannot give us such a big advantage and we can train our model from scratch so it merely focuses on classifying defected and not-defected.\n",
    "* <b>Note 1:</b> The data set is highly unbalanced. We could use stratified k fold cross-validation or the like but is there any better solution? see observation 2.\n",
    "* <b>Note 2:</b> I leveraged open source tools (I also sent a file in which I just use Keras predefined models to just showcase my skills :) ) but finally  decided to build my model as it is here because it gives a real deep access to the losses and structure (like to add the ROI layer), so please excuse the long code in that part. I still keep the code under 300 lines.\n",
    "* <b>Observation 1:</b> We could use 3 channels but we observed that grayscale works better here by similar reason as in assumption 3 that we want to just focus on the defection. Also, this speeds the training up a lot (although the data is small this gave speed up of order 5x)\n",
    "* <b>Observation 2:</b> We tried data augmentation on the whole data set and it gave use ~ 90% accuracy on test set but if we do augmentation just on the defected samples then not only do we get up to 96% accuracy in test, but also we have alleviated the unbalancedness up to a natural degree (We all know perfect balance is not the best).\n",
    "* <b>Observation 3:</b> One of the challenges of this problem is to do hyperparameter tuning. This process can be done exhaustively or intelligently.  For example, the learning curve can help a lot for tunning the learning rate, model capacity and parameters (if learns so fast maybe decrease the capacity) and also data preprocessing steps. I keep the detail of this process in the background as it can be of less interest here.\n"
   ]
  },
  {
   "cell_type": "code",
   "execution_count": 1,
   "metadata": {},
   "outputs": [],
   "source": [
    "import tensorflow as tf\n",
    "import numpy as np\n",
    "import matplotlib.pyplot as plt\n",
    "import os\n",
    "import cv2"
   ]
  },
  {
   "cell_type": "code",
   "execution_count": 2,
   "metadata": {},
   "outputs": [
    {
     "name": "stdout",
     "output_type": "stream",
     "text": [
      "Downloading data from https://urldefense.proofpoint.com/v2/url?u=https-3A__apple.box.com_shared_static_uqafgvmz8d1s2uexbg74fmqlyal6jzov.zip&d=DwMFaQ&c=clK7kQUTWtAVEOVIgvi0NU5BOUHhpN0H8p7CSfnc_gI&r=d4ucKxSoqaeRpi9SjIi_Xw&m=IHt8J6CHK1Tjq2MH1BtaRBmLfhvQSeK6Q2HMzE5fabI&s=JChTdl1eP1yofrrOOlOn7Q4BYl0gSNxMm6DUQxlP5l4&e=\n",
      "48398336/48391872 [==============================] - 272s 6us/step\n"
     ]
    }
   ],
   "source": [
    "# download the data \n",
    "import pathlib\n",
    "emailed_link = 'https://urldefense.proofpoint.com/v2/url?u=https-3A__apple.box.com_shared_static_uqafgvmz8d1s2uexbg74fmqlyal6jzov.zip&d=DwMFaQ&c=clK7kQUTWtAVEOVIgvi0NU5BOUHhpN0H8p7CSfnc_gI&r=d4ucKxSoqaeRpi9SjIi_Xw&m=IHt8J6CHK1Tjq2MH1BtaRBmLfhvQSeK6Q2HMzE5fabI&s=JChTdl1eP1yofrrOOlOn7Q4BYl0gSNxMm6DUQxlP5l4&e='\n",
    "data_dir = tf.keras.utils.get_file(fname= \"F:/Acad/lc/apple_DC/iphone/iphone\",\n",
    "                                   origin=emailed_link,\n",
    "                                   extract=True)\n",
    "data_dir = pathlib.Path(data_dir)"
   ]
  },
  {
   "cell_type": "code",
   "execution_count": 3,
   "metadata": {},
   "outputs": [],
   "source": [
    "# manual labeling\n",
    "DATASET_PATH = \"F:/Acad/lc/apple_DC/splitted-all\" # the dataset file or root folder path.\n",
    "\n",
    "# Image Parameters\n",
    "N_CLASSES = 2 # total number of classes (11 defected , 89 undefected)\n",
    "IMG_HEIGHT = 64  # the image height to be resized to\n",
    "IMG_WIDTH = 64 # the image width to be resized to\n",
    "CHANNELS = 1 # The 3 color channels, can change to 1 if want grayscale"
   ]
  },
  {
   "cell_type": "code",
   "execution_count": 4,
   "metadata": {},
   "outputs": [],
   "source": [
    "training_prec = 0.8 # trian set percentage\n",
    "eval_prec = .1  # validation set percentage, rest is test"
   ]
  },
  {
   "cell_type": "code",
   "execution_count": 22,
   "metadata": {},
   "outputs": [],
   "source": [
    "def augmentation(image):\n",
    "    '''\n",
    "    input: image tensor\n",
    "    return: a list of augmented images\n",
    "    \n",
    "    By a bried look at the data and also the assumption that we are in a semi-controlled environment,\n",
    "    we just did flips, shifts and add light. \n",
    "    '''\n",
    "    result = []\n",
    "    angels = np.random.random(5)*50-25  # random -25, 25 degree rotate\n",
    "    for angel in angels:\n",
    "        result.append(cv2.warpAffine(image, cv2.getRotationMatrix2D((IMG_WIDTH / 2, IMG_HEIGHT / 2), angel, 1.0),dsize=(IMG_WIDTH,IMG_HEIGHT)))\n",
    "    result.append(cv2.flip(image, flipCode=-1)) # vertical and horizontal flip\n",
    "    result.append(cv2.flip(image, flipCode=0)) # vertical flip\n",
    "    result.append(cv2.flip(image, flipCode=1)) # horizontal flip\n",
    "    table = np.array([(i / 255.0) * 255\n",
    "                      for i in np.arange(0, 256)]).astype(\"uint8\")\n",
    "    result.append(cv2.LUT(image, table))\n",
    "\n",
    "    return result"
   ]
  },
  {
   "cell_type": "code",
   "execution_count": 23,
   "metadata": {},
   "outputs": [],
   "source": [
    "def read_images(dataset_path):\n",
    "    '''\n",
    "    input: str folder path \n",
    "    output: train, validation and test data sets\n",
    "    '''\n",
    "    images, labels = list(), list()\n",
    "\n",
    "    label = 0\n",
    "    classes = sorted(os.walk(dataset_path).__next__()[1])  # List the directory\n",
    "\n",
    "    # grayscale or RGB\n",
    "    if CHANNELS==1:\n",
    "        read_img = lambda x: cv2.imread(x, cv2.IMREAD_GRAYSCALE)\n",
    "    elif CHANNELS==3:\n",
    "        read_img = lambda x: cv2.imread(x, cv2.IMREAD_UNCHANGED)\n",
    "\n",
    "    # List each sub-directory (the classes)\n",
    "    for c in classes:\n",
    "        c_dir = os.path.join(dataset_path, c)\n",
    "        walk = os.walk(c_dir).__next__()\n",
    "        # Add each image to the set\n",
    "        for sample in walk[2]:\n",
    "            image = read_img(os.path.join(c_dir, sample))\n",
    "            image = cv2.resize(image, (IMG_HEIGHT, IMG_WIDTH), interpolation=cv2.INTER_AREA)\n",
    "            if label == 0:  # augmentation just on defected\n",
    "                res = augmentation(image)\n",
    "                images += res\n",
    "                labels += [label]*len(res)\n",
    "            images.append(image * 1.0 / 127.5 - 1.0)  # normalize\n",
    "            labels.append(label)\n",
    "        label += 1\n",
    "\n",
    "    # shuffle and split train, validation and test\n",
    "    num_data = len(labels)\n",
    "    np.random.seed(110) # set the seed\n",
    "    idx = np.random.permutation(len(labels))\n",
    "    images, labels = np.array(images)[idx,:], np.array(labels)[idx]\n",
    "    \n",
    "    num_training = int(num_data * .8)\n",
    "    num_eval = int(num_data * .1)\n",
    "\n",
    "    tr_X = images[:num_training]\n",
    "    eval_X = images[num_training : num_eval+num_training]\n",
    "    tes_X = images[num_eval+num_training:]\n",
    "\n",
    "    tr_y = labels[:num_training]\n",
    "    eval_y = labels[num_training : num_training+num_eval]\n",
    "    tes_y = labels[num_training+num_eval:]\n",
    "\n",
    "    return tr_X, eval_X, tes_X, tr_y, eval_y, tes_y, num_training, num_eval"
   ]
  },
  {
   "cell_type": "code",
   "execution_count": 56,
   "metadata": {},
   "outputs": [
    {
     "name": "stdout",
     "output_type": "stream",
     "text": [
      "Train set has 159 samples and defection proportion = 0.566\n",
      "Validation set has 19 samples and defection proportion = 0.632\n",
      "Test set has 21 samples and defection proportion = 0.381\n"
     ]
    }
   ],
   "source": [
    "X_train, X_val, X_test, Y_train, Y_val, Y_test, num_training, num_eval = read_images(DATASET_PATH)\n",
    "defection_prec = lambda x: (len(x), 1-sum(x)/len(x))\n",
    "\n",
    "print('Train set has %d samples and defection proportion = %.3f' % defection_prec(Y_train))\n",
    "print('Validation set has %d samples and defection proportion = %.3f' % defection_prec(Y_val))\n",
    "print('Test set has %d samples and defection proportion = %.3f' % defection_prec(Y_test))"
   ]
  },
  {
   "cell_type": "code",
   "execution_count": 59,
   "metadata": {},
   "outputs": [],
   "source": [
    "# an imaginary channel in the gray case\n",
    "if CHANNELS == 1:\n",
    "    X_train = np.expand_dims(X_train, axis=-1)\n",
    "    X_val = np.expand_dims(X_val, axis=-1)\n",
    "    X_test = np.expand_dims(X_test, axis=-1)"
   ]
  },
  {
   "cell_type": "code",
   "execution_count": 60,
   "metadata": {},
   "outputs": [],
   "source": [
    "# # definec some wrappers with almost tunned parameters\n",
    "def conv2d(input, kernel_size, stride, num_filter):\n",
    "    stride_shape = [1, stride, stride, 1]\n",
    "    filter_shape = [kernel_size, kernel_size, input.get_shape()[3], num_filter]\n",
    "\n",
    "    W = tf.get_variable('w', filter_shape, tf.float32, tf.random_normal_initializer(0.0, 0.02))\n",
    "    b = tf.get_variable('b', [1, 1, 1, num_filter], initializer=tf.constant_initializer(0.0))\n",
    "    return tf.nn.conv2d(input, W, stride_shape, padding='SAME') + b\n",
    "\n",
    "def max_pool(input, kernel_size, stride):\n",
    "    ksize = [1, kernel_size, kernel_size, 1]\n",
    "    strides = [1, stride, stride, 1]\n",
    "    return tf.nn.max_pool(input, ksize=ksize, strides=strides, padding='SAME')"
   ]
  },
  {
   "cell_type": "code",
   "execution_count": 81,
   "metadata": {},
   "outputs": [],
   "source": [
    "\n",
    "class BaseModel(object):\n",
    "    def __init__(self):\n",
    "        self.batch_size = 19\n",
    "        self.num_epoch = 5\n",
    "        self.log_step = 5\n",
    "        self._build_model()\n",
    "\n",
    "    def _model(self):\n",
    "        with tf.variable_scope('conv1'):\n",
    "            self.conv1 = conv2d(self.X, 7, 1, 32)\n",
    "            self.relu1 = tf.nn.relu(self.conv1)\n",
    "            self.pool1 = max_pool(self.relu1, 3, 2)\n",
    "        with tf.variable_scope('conv2'):\n",
    "            self.conv2 = conv2d(self.pool1, 5, 1, 64)\n",
    "            self.relu2 = tf.nn.relu(self.conv2)\n",
    "            self.pool2 = max_pool(self.relu2, 3, 2)\n",
    "        self.flat = tf.layers.flatten(self.pool2)\n",
    "        with tf.variable_scope('fc3'):\n",
    "            self.fc3 = tf.layers.dense(self.flat, 384)\n",
    "            self.relu3 = tf.nn.relu(self.fc3)\n",
    "        with tf.variable_scope('fc4'):\n",
    "            self.fc4 = tf.layers.dense(self.relu3, N_CLASSES)\n",
    "        return self.fc4\n",
    "\n",
    "    def _input_ops(self):\n",
    "        # Placeholders\n",
    "        self.X = tf.placeholder(tf.float32, [None, IMG_HEIGHT, IMG_WIDTH, CHANNELS])\n",
    "        self.Y = tf.placeholder(tf.int64, [None])\n",
    "        self.is_training = tf.placeholder(tf.bool, None)\n",
    "        self.lr = tf.placeholder(tf.float32, None)\n",
    "        \n",
    "\n",
    "    def _build_optimizer(self):\n",
    "        # Adam optimizer 'self.train_op' that minimizes 'self.loss_op'\n",
    "        gs = tf.Variable(0, trainable=False)\n",
    "        l_r = tf.train.exponential_decay(learning_rate=self.lr, global_step=gs,decay_steps=10, decay_rate=0.9, staircase=True)\n",
    "        optimer = tf.train.AdamOptimizer(l_r)\n",
    "        self.train_op = optimer.minimize(self.loss_op, global_step=gs)\n",
    "\n",
    "    def _loss(self, labels, logits):\n",
    "        # Softmax cross entropy loss\n",
    "        ls = tf.nn.softmax_cross_entropy_with_logits(labels=labels, logits=logits)\n",
    "        self.loss_op = tf.reduce_mean(ls)\n",
    "\n",
    "    def _build_model(self):\n",
    "        self._input_ops() # Define input variables\n",
    "        labels = tf.one_hot(self.Y, N_CLASSES) # Convert Y to one-hot vector\n",
    "        logits = self._model() # Build a model and get logits\n",
    "        self._loss(labels, logits) # Compute loss\n",
    "        self._build_optimizer()  # Build optimizer\n",
    "\n",
    "        # Compute accuracy and f1 score\n",
    "        predict = tf.argmax(logits, 1)\n",
    "        correct = tf.equal(predict, self.Y)\n",
    "        self.accuracy_op = tf.reduce_mean(tf.cast(correct, tf.float32))\n",
    "        TP = tf.count_nonzero(predict * self.Y)\n",
    "        TN = tf.count_nonzero((predict - 1) * (self.Y - 1))\n",
    "        FP = tf.count_nonzero(predict * (self.Y - 1))\n",
    "        FN = tf.count_nonzero((predict - 1) * self.Y)\n",
    "        precision = TP / (TP + FP)\n",
    "        recall = TP / (TP + FN)\n",
    "        self.f1_score = 2 * precision * recall / (precision + recall)\n",
    "\n",
    "    def train(self, sess, X_train, Y_train, X_val, Y_val, lr):\n",
    "        sess.run(tf.global_variables_initializer())\n",
    "        step = 0\n",
    "        losses = []\n",
    "        accuracies = []\n",
    "        print('-' * 5 + '  Start training  ' + '-' * 5)\n",
    "        for epoch in range(self.num_epoch):\n",
    "            print('train for epoch %d' % epoch)\n",
    "            for i in range(num_training // self.batch_size):\n",
    "                X_ = X_train[i * self.batch_size:(i + 1) * self.batch_size][:]\n",
    "                Y_ = Y_train[i * self.batch_size:(i + 1) * self.batch_size]\n",
    "\n",
    "                feed_dict = {self.X: X_, self.Y: Y_, self.lr:lr}\n",
    "                fetches = [self.train_op, self.loss_op, self.accuracy_op]\n",
    "                # import IPython  # used for online debugging (we cannot do this using something like Pycharm, useful note for me) \n",
    "                # IPython.embed()\n",
    "\n",
    "                _, loss, accuracy = sess.run(fetches, feed_dict=feed_dict)\n",
    "                losses.append(loss)\n",
    "                accuracies.append(accuracy)\n",
    "\n",
    "                if step % self.log_step == 0:\n",
    "                    print('iteration (%d): loss = %.3f, accuracy = %.3f' %\n",
    "                          (step, loss, accuracy))\n",
    "                step += 1\n",
    "\n",
    "            # Print validation results\n",
    "            print('validation for epoch %d' % epoch)\n",
    "            val_accuracy, _ = self.evaluate(sess, X_val, Y_val)\n",
    "            print('-  epoch %d: validation accuracy = %.3f' % (epoch, val_accuracy))\n",
    "\n",
    "        ###################################\n",
    "        # Plot training curve             #\n",
    "        ###################################\n",
    "        plt.title('Training loss')\n",
    "        loss_hist_ = losses[1::len(losses)//10]  # sparse the curve a bit\n",
    "        plt.plot(loss_hist_, '-o')\n",
    "        plt.xlabel('epoch')\n",
    "        plt.gcf().set_size_inches(15, 12)\n",
    "        plt.show()\n",
    "\n",
    "    def evaluate(self, sess, X_eval, Y_eval):\n",
    "        eval_accuracy = 0.0\n",
    "        eval_f1 = 0.0\n",
    "        eval_iter = 0\n",
    "        for i in range(X_eval.shape[0] // self.batch_size):\n",
    "            X_ = X_eval[i * self.batch_size:(i + 1) * self.batch_size][:]\n",
    "            Y_ = Y_eval[i * self.batch_size:(i + 1) * self.batch_size]\n",
    "            feed_dict = {self.X: X_, self.Y: Y_}\n",
    "            accuracy, f1 = sess.run([self.accuracy_op, self.f1_score], feed_dict=feed_dict)\n",
    "            eval_accuracy += accuracy\n",
    "            eval_f1 += f1\n",
    "            eval_iter += 1\n",
    "        return eval_accuracy / eval_iter, eval_f1/ eval_iter"
   ]
  },
  {
   "cell_type": "code",
   "execution_count": 82,
   "metadata": {},
   "outputs": [
    {
     "name": "stdout",
     "output_type": "stream",
     "text": [
      "-----  Start training  -----\n",
      "train for epoch 0\n",
      "iteration (0): loss = 21.948, accuracy = 0.474\n",
      "iteration (5): loss = 0.387, accuracy = 0.632\n",
      "validation for epoch 0\n",
      "-  epoch 0: validation accuracy = 0.632\n",
      "train for epoch 1\n",
      "iteration (10): loss = 0.204, accuracy = 0.789\n",
      "iteration (15): loss = 0.392, accuracy = 0.737\n",
      "validation for epoch 1\n",
      "-  epoch 1: validation accuracy = 0.737\n",
      "train for epoch 2\n",
      "iteration (20): loss = 0.100, accuracy = 1.000\n",
      "validation for epoch 2\n",
      "-  epoch 2: validation accuracy = 0.947\n",
      "train for epoch 3\n",
      "iteration (25): loss = 0.322, accuracy = 0.895\n",
      "iteration (30): loss = 0.256, accuracy = 0.947\n",
      "validation for epoch 3\n",
      "-  epoch 3: validation accuracy = 0.947\n",
      "train for epoch 4\n",
      "iteration (35): loss = 0.292, accuracy = 0.895\n",
      "validation for epoch 4\n",
      "-  epoch 4: validation accuracy = 0.947\n"
     ]
    },
    {
     "data": {
      "image/png": "[encoded data removed]",
      "text/plain": [
       "<Figure size 1080x864 with 1 Axes>"
      ]
     },
     "metadata": {
      "needs_background": "light"
     },
     "output_type": "display_data"
    },
    {
     "name": "stdout",
     "output_type": "stream",
     "text": [
      "***** test accuracy: 0.947, f1: 0.960\n"
     ]
    }
   ],
   "source": [
    "tf.reset_default_graph()\n",
    "\n",
    "with tf.Session() as sess:\n",
    "    with tf.device('/cpu:0'):\n",
    "        model = BaseModel()\n",
    "        lr = 1e-4\n",
    "        model.train(sess, X_train, Y_train, X_val, Y_val, lr)\n",
    "        accuracy, f1 = model.evaluate(sess, X_test, Y_test)\n",
    "        print('***** test accuracy: %.3f, f1: %.3f' % (accuracy, f1))"
   ]
  },
  {
   "cell_type": "markdown",
   "metadata": {},
   "source": [
    "# conclusion\n",
    "We can get up to ~ 95% accuracy and 96 f1-score in the test set using this simple model and just 5 epochs. To locate or annotate the area, we can use a similar approach as Grad-CAM paper (read [here](https://arxiv.org/pdf/1610.02391.pdf)) which highlights the active regions, this works because the active region is just the countors of the defection which give hint to the model to classify it as a defected one.  A more systematic hyper-parameter tunning like Bayesian optimization or Reinforcement learning (on top of the model) can give us better accuracy too. We have a paper on this in which we used a response surface methodology to tune the hyper-parameters of a deep learning model using Baysian like optimization approaches. We are about to submit it and could observe promising results there."
   ]
  }
 ],
 "metadata": {
  "kernelspec": {
   "display_name": "tf_2",
   "language": "python",
   "name": "tf_2"
  },
  "language_info": {
   "codemirror_mode": {
    "name": "ipython",
    "version": 3
   },
   "file_extension": ".py",
   "mimetype": "text/x-python",
   "name": "python",
   "nbconvert_exporter": "python",
   "pygments_lexer": "ipython3",
   "version": "3.6.9"
  }
 },
 "nbformat": 4,
 "nbformat_minor": 2
}
